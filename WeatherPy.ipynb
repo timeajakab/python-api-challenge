{
 "cells": [
  {
   "cell_type": "markdown",
   "metadata": {},
   "source": [
    "# WeatherPy\n",
    "\n",
    "---\n",
    "\n",
    "## Starter Code to Generate Random Geographic Coordinates and a List of Cities"
   ]
  },
  {
   "cell_type": "code",
   "execution_count": 2,
   "metadata": {
    "scrolled": true
   },
   "outputs": [
    {
     "ename": "ModuleNotFoundError",
     "evalue": "No module named 'citipy'",
     "output_type": "error",
     "traceback": [
      "\u001b[0;31m---------------------------------------------------------------------------\u001b[0m",
      "\u001b[0;31mModuleNotFoundError\u001b[0m                       Traceback (most recent call last)",
      "Input \u001b[0;32mIn [2]\u001b[0m, in \u001b[0;36m<cell line: 13>\u001b[0;34m()\u001b[0m\n\u001b[1;32m     10\u001b[0m \u001b[38;5;28;01mfrom\u001b[39;00m \u001b[38;5;21;01mapi_keys\u001b[39;00m \u001b[38;5;28;01mimport\u001b[39;00m weather_api_key\n\u001b[1;32m     12\u001b[0m \u001b[38;5;66;03m# Import citipy to determine the cities based on latitude and longitude\u001b[39;00m\n\u001b[0;32m---> 13\u001b[0m \u001b[38;5;28;01mfrom\u001b[39;00m \u001b[38;5;21;01mcitipy\u001b[39;00m \u001b[38;5;28;01mimport\u001b[39;00m citipy\n",
      "\u001b[0;31mModuleNotFoundError\u001b[0m: No module named 'citipy'"
     ]
    }
   ],
   "source": [
    "# Dependencies and Setup\n",
    "import matplotlib.pyplot as plt\n",
    "import pandas as pd\n",
    "import numpy as np\n",
    "import requests\n",
    "import time\n",
    "from scipy.stats import linregress\n",
    "\n",
    "# Impor the OpenWeatherMap API key\n",
    "from api_keys import weather_api_key\n",
    "\n",
    "# Import citipy to determine the cities based on latitude and longitude\n",
    "from citipy import citipy\n",
    "\n"
   ]
  },
  {
   "cell_type": "code",
   "execution_count": 3,
   "metadata": {},
   "outputs": [],
   "source": [
    "# Output File (CSV)\n",
    "output_data_file = \"output_data/cities.csv\"\n",
    "\n",
    "# Range of latitudes and longitudes\n",
    "lat_range = (-90, 90)\n",
    "lng_range = (-180, 180)"
   ]
  },
  {
   "cell_type": "markdown",
   "metadata": {},
   "source": [
    "### Generate the Cities List by Using the `citipy` Library"
   ]
  },
  {
   "cell_type": "code",
   "execution_count": 4,
   "metadata": {},
   "outputs": [
    {
     "ename": "NameError",
     "evalue": "name 'citipy' is not defined",
     "output_type": "error",
     "traceback": [
      "\u001b[0;31m---------------------------------------------------------------------------\u001b[0m",
      "\u001b[0;31mNameError\u001b[0m                                 Traceback (most recent call last)",
      "Input \u001b[0;32mIn [4]\u001b[0m, in \u001b[0;36m<cell line: 17>\u001b[0;34m()\u001b[0m\n\u001b[1;32m     16\u001b[0m \u001b[38;5;66;03m# Identify nearest city for each lat, lng combination\u001b[39;00m\n\u001b[1;32m     17\u001b[0m \u001b[38;5;28;01mfor\u001b[39;00m lat_lng \u001b[38;5;129;01min\u001b[39;00m lat_lngs:\n\u001b[0;32m---> 18\u001b[0m     city \u001b[38;5;241m=\u001b[39m \u001b[43mcitipy\u001b[49m\u001b[38;5;241m.\u001b[39mnearest_city(lat_lng[\u001b[38;5;241m0\u001b[39m], lat_lng[\u001b[38;5;241m1\u001b[39m])\u001b[38;5;241m.\u001b[39mcity_name\n\u001b[1;32m     20\u001b[0m     \u001b[38;5;66;03m# If the city is unique, then add it to a our cities list\u001b[39;00m\n\u001b[1;32m     21\u001b[0m     \u001b[38;5;28;01mif\u001b[39;00m city \u001b[38;5;129;01mnot\u001b[39;00m \u001b[38;5;129;01min\u001b[39;00m cities:\n",
      "\u001b[0;31mNameError\u001b[0m: name 'citipy' is not defined"
     ]
    }
   ],
   "source": [
    "# Empty list for holding the latitude and longitude combinations\n",
    "lat_lngs = []\n",
    "\n",
    "# Empty list for holding the cities names\n",
    "cities = []\n",
    "\n",
    "# Range of latitudes and longitudes\n",
    "lat_range = (-90, 90)\n",
    "lng_range = (-180, 180)\n",
    "\n",
    "# Create a set of random lat and lng combinations\n",
    "lats = np.random.uniform(lat_range[0], lat_range[1], size=1500)\n",
    "lngs = np.random.uniform(lng_range[0], lng_range[1], size=1500)\n",
    "lat_lngs = zip(lats, lngs)\n",
    "\n",
    "# Identify nearest city for each lat, lng combination\n",
    "for lat_lng in lat_lngs:\n",
    "    city = citipy.nearest_city(lat_lng[0], lat_lng[1]).city_name\n",
    "    \n",
    "    # If the city is unique, then add it to a our cities list\n",
    "    if city not in cities:\n",
    "        cities.append(city)\n",
    "\n",
    "# Print the city count to confirm sufficient count\n",
    "len(cities)"
   ]
  },
  {
   "cell_type": "code",
   "execution_count": null,
   "metadata": {},
   "outputs": [],
   "source": [
    "#Config information and query URL\n",
    "base_url = \"https://api.openweathermap.org/data/2.5/weather?\"\n",
    "units = \"imperial\"\n",
    "query_url = f\"{base_url}appid={api_key}&units={units}&q=\""
   ]
  },
  {
   "cell_type": "code",
   "execution_count": 1,
   "metadata": {},
   "outputs": [],
   "source": [
    "\n",
    "#lists to hold response info\n",
    "temp = [] #weather_response['main']['temp']\n",
    "latitude = [] #weather_response['coord']['lat']\n",
    "humidity = [] #weather_response['main']['humidity']\n",
    "cloudiness = [] #weather_response['clouds']['all']\n",
    "wind_speed = [] #weather_response['wind']['speed']\n",
    "city_list = [] #weather_response['name']\n",
    "longitude = [] #weather_response['coord']['lon']"
   ]
  },
  {
   "cell_type": "code",
   "execution_count": null,
   "metadata": {},
   "outputs": [],
   "source": [
    "#loop and retrieve data for cities\n",
    "for city in cities:\n",
    "    weather_response = requests.get(query_url + city).json()\n",
    "    \n",
    "    try:\n",
    "        print(f\"Processing City: {city}\")\n",
    "        temp.append(weather_response['main']['temp'])\n",
    "        latitude.append(weather_response['coord']['lat'])\n",
    "        longitude.append(weather_response['coord']['lon'])\n",
    "        humidity.append(weather_response['main']['humidity'])\n",
    "        cloudiness.append(weather_response['clouds']['all'])\n",
    "        wind_speed.append(weather_response['wind']['speed'])\n",
    "        city_list.append(city)\n",
    "    except KeyError:\n",
    "        print: \"City not found.. skipping\" "
   ]
  },
  {
   "cell_type": "markdown",
   "metadata": {},
   "source": [
    "---"
   ]
  },
  {
   "cell_type": "code",
   "execution_count": 5,
   "metadata": {},
   "outputs": [
    {
     "ename": "NameError",
     "evalue": "name 'city_list' is not defined",
     "output_type": "error",
     "traceback": [
      "\u001b[0;31m---------------------------------------------------------------------------\u001b[0m",
      "\u001b[0;31mNameError\u001b[0m                                 Traceback (most recent call last)",
      "Input \u001b[0;32mIn [5]\u001b[0m, in \u001b[0;36m<cell line: 1>\u001b[0;34m()\u001b[0m\n\u001b[1;32m      1\u001b[0m weather_df \u001b[38;5;241m=\u001b[39m pd\u001b[38;5;241m.\u001b[39mDataFrame({\n\u001b[0;32m----> 2\u001b[0m     \u001b[38;5;124m\"\u001b[39m\u001b[38;5;124mCity\u001b[39m\u001b[38;5;124m\"\u001b[39m: \u001b[43mcity_list\u001b[49m,\n\u001b[1;32m      3\u001b[0m     \u001b[38;5;124m\"\u001b[39m\u001b[38;5;124mTemperature(F)\u001b[39m\u001b[38;5;124m\"\u001b[39m: temp,\n\u001b[1;32m      4\u001b[0m     \u001b[38;5;124m\"\u001b[39m\u001b[38;5;124mLatitude\u001b[39m\u001b[38;5;124m\"\u001b[39m: latitude,\n\u001b[1;32m      5\u001b[0m     \u001b[38;5;124m\"\u001b[39m\u001b[38;5;124mLongitude\u001b[39m\u001b[38;5;124m\"\u001b[39m: longitude,\n\u001b[1;32m      6\u001b[0m     \u001b[38;5;124m\"\u001b[39m\u001b[38;5;124mHumidity\u001b[39m\u001b[38;5;124m\"\u001b[39m: humidity,\n\u001b[1;32m      7\u001b[0m     \u001b[38;5;124m\"\u001b[39m\u001b[38;5;124mCloudiness\u001b[39m\u001b[38;5;124m\"\u001b[39m: cloudiness,\n\u001b[1;32m      8\u001b[0m     \u001b[38;5;124m\"\u001b[39m\u001b[38;5;124mWind Speed\u001b[39m\u001b[38;5;124m\"\u001b[39m: wind_speed\n\u001b[1;32m      9\u001b[0m })\n\u001b[1;32m     10\u001b[0m weather_df\n",
      "\u001b[0;31mNameError\u001b[0m: name 'city_list' is not defined"
     ]
    }
   ],
   "source": [
    "weather_df = pd.DataFrame({\n",
    "    \"City\": city_list,\n",
    "    \"Temperature(F)\": temp,\n",
    "    \"Latitude\": latitude,\n",
    "    \"Longitude\": longitude,\n",
    "    \"Humidity\": humidity,\n",
    "    \"Cloudiness\": cloudiness,\n",
    "    \"Wind Speed\": wind_speed\n",
    "})\n",
    "weather_df"
   ]
  },
  {
   "cell_type": "code",
   "execution_count": null,
   "metadata": {},
   "outputs": [],
   "source": [
    "weather_df.to_csv('output_data\\cities.csv')"
   ]
  },
  {
   "cell_type": "code",
   "execution_count": null,
   "metadata": {},
   "outputs": [],
   "source": [
    "#Latitude vs Temperature\n",
    "plt.scatter(weather_df['Latitude'],weather_df['Temperature(F)'])\n",
    "plt.title(\"City Latitude vs. Temperature(F)\")\n",
    "plt.ylabel(\"Temperature (F)\")\n",
    "plt.xlabel(\"Latitude\")\n",
    "plt.savefig('output_data/fig1.png')\n",
    "plt.show()\n",
    "print(\"Code is analyzing the relationship between latitude and temperature.\")"
   ]
  },
  {
   "cell_type": "code",
   "execution_count": null,
   "metadata": {},
   "outputs": [],
   "source": [
    "#Latitude vs Humidity\n",
    "plt.scatter(weather_df['Latitude'],weather_df['Humidity'])\n",
    "plt.title(\"City Latitude vs. Humidity\")\n",
    "plt.ylabel(\"Humidity\")\n",
    "plt.xlabel(\"Latitude\")\n",
    "plt.savefig('output_data/fig2.png')\n",
    "plt.show()\n",
    "print(\"Code is analyzing the relationship between latitude and humidity\")"
   ]
  },
  {
   "cell_type": "code",
   "execution_count": null,
   "metadata": {},
   "outputs": [],
   "source": [
    "#Latitude vs Cloudiness\n",
    "plt.scatter(weather_df['Latitude'],weather_df['Cloudiness'])\n",
    "plt.title(\"City Latitude vs. Cloudiness\")\n",
    "plt.ylabel(\"Cloudiness\")\n",
    "plt.xlabel(\"Latitude\")\n",
    "plt.savefig('output_data/fig3.png')\n",
    "plt.show()\n",
    "print(\"Code is analyzing latitude vs cloudiness\")"
   ]
  },
  {
   "cell_type": "code",
   "execution_count": null,
   "metadata": {},
   "outputs": [],
   "source": [
    "#Latitude vs Windspeed\n",
    "plt.scatter(weather_df['Latitude'],weather_df['Wind Speed'])\n",
    "plt.title(\"City Latitude vs. Wind Speed\")\n",
    "plt.ylabel(\"Wind Speed\")\n",
    "plt.xlabel(\"Latitude\")\n",
    "plt.savefig('output_data/fig4.png')\n",
    "plt.show()\n",
    "print(\"Code is analyzing latitude vs wind speed\")"
   ]
  },
  {
   "cell_type": "code",
   "execution_count": null,
   "metadata": {},
   "outputs": [],
   "source": [
    "#Create northern and southern hemisphere dataframes\n",
    "north_df = weather_df.loc[(weather_df['Latitude'] > 0),:]\n",
    "south_df = weather_df.loc[(weather_df['Latitude'] < 0),:]"
   ]
  },
  {
   "cell_type": "code",
   "execution_count": null,
   "metadata": {},
   "outputs": [],
   "source": [
    "#Northern Hemisphere Latitude vs Temperature\n",
    "plt.scatter(north_df['Latitude'],north_df['Temperature(F)'])\n",
    "plt.title(\"Northern Hemisphere - City Latitude vs. Temperature(F)\")\n",
    "plt.ylabel(\"Temperature (F)\")\n",
    "plt.xlabel(\"Latitude\")\n",
    "(slope, intercept, rvalue, pvalue, stderr) = linregress(north_df['Latitude'],north_df['Temperature(F)'])\n",
    "regress_values = north_df['Latitude'] * slope + intercept\n",
    "plt.plot(north_df['Latitude'], regress_values, \"r-\")\n",
    "line_eq = f\"y = {round(slope,2)}x + {round(intercept,2)}\"\n",
    "plt.annotate(line_eq, (10,50))\n",
    "plt.savefig('output_data/fig5.png')\n",
    "plt.show()\n",
    "print(f\"The r-value is: {rvalue}\")\n",
    "print(\"As city latitude gets further from 0, temperature decreases.\")"
   ]
  },
  {
   "cell_type": "code",
   "execution_count": null,
   "metadata": {},
   "outputs": [],
   "source": [
    "#Southern Hemisphere Latitude vs Temperature\n",
    "plt.scatter(south_df['Latitude'],south_df['Temperature(F)'])\n",
    "plt.title(\"Southern Hemisphere - City Latitude vs. Temperature(F)\")\n",
    "plt.ylabel(\"Temperature (F)\")\n",
    "plt.xlabel(\"Latitude\")\n",
    "\n",
    "(slope, intercept, rvalue, pvalue, stderr) = linregress(south_df['Latitude'],south_df['Temperature(F)'])\n",
    "regress_values = south_df['Latitude'] * slope + intercept\n",
    "plt.plot(south_df['Latitude'], regress_values, \"r-\")\n",
    "line_eq = f\"y = {round(slope,2)}x + {round(intercept,2)}\"\n",
    "plt.annotate(line_eq, (-50,80))\n",
    "plt.savefig('output_data/fig6.png')\n",
    "plt.show()\n",
    "\n",
    "print(f\"The r-value is: {rvalue}\")\n",
    "print(\"As city latitude gets closer to 0, temperature increases.\")"
   ]
  },
  {
   "cell_type": "code",
   "execution_count": null,
   "metadata": {},
   "outputs": [],
   "source": [
    "#Northern Hemisphere Latitude vs Humidity\n",
    "plt.scatter(north_df['Latitude'],north_df['Humidity'])\n",
    "plt.title(\"Northern Hemisphere - City Latitude vs. Humidity\")\n",
    "plt.ylabel(\"Humidity\")\n",
    "plt.xlabel(\"Latitude\")\n",
    "\n",
    "(slope, intercept, rvalue, pvalue, stderr) = linregress(north_df['Latitude'],north_df['Humidity'])\n",
    "regress_values = north_df['Latitude'] * slope + intercept\n",
    "plt.plot(north_df['Latitude'], regress_values, \"r-\")\n",
    "line_eq = f\"y = {round(slope,2)}x + {round(intercept,2)}\"\n",
    "plt.annotate(line_eq, (50,10))\n",
    "plt.savefig('output_data/fig7.png')\n",
    "plt.show()\n",
    "\n",
    "print(f\"The r-value is: {rvalue}\")\n",
    "print(\"As city latitude gets further from 0, humidity increases.\")"
   ]
  },
  {
   "cell_type": "code",
   "execution_count": null,
   "metadata": {},
   "outputs": [],
   "source": [
    "#Southern Hemisphere Latitude vs Humidity\n",
    "plt.scatter(south_df['Latitude'],south_df['Humidity'])\n",
    "plt.title(\"Southern Hemisphere - City Latitude vs. Humidity\")\n",
    "plt.ylabel(\"Humidity\")\n",
    "plt.xlabel(\"Latitude\")\n",
    "\n",
    "(slope, intercept, rvalue, pvalue, stderr) = linregress(south_df['Latitude'],south_df['Humidity'])\n",
    "regress_values = south_df['Latitude'] * slope + intercept\n",
    "plt.plot(south_df['Latitude'], regress_values, \"r-\")\n",
    "line_eq = f\"y = {round(slope,2)}x + {round(intercept,2)}\"\n",
    "plt.annotate(line_eq, (-50,20))\n",
    "plt.savefig('output_data/fig8.png')\n",
    "plt.show()\n",
    "\n",
    "print(f\"The r-value is: {rvalue}\")\n",
    "print(\"As city latitude gets closer 0, humidity increases.\")"
   ]
  },
  {
   "cell_type": "code",
   "execution_count": null,
   "metadata": {},
   "outputs": [],
   "source": [
    "#Northern Hemisphere Latitude vs Cloudiness\n",
    "plt.scatter(north_df['Latitude'],north_df['Cloudiness'])\n",
    "plt.title(\"Northern Hemisphere - City Latitude vs. Cloudiness\")\n",
    "plt.ylabel(\"Cloudiness\")\n",
    "plt.xlabel(\"Latitude\")\n",
    "\n",
    "(slope, intercept, rvalue, pvalue, stderr) = linregress(north_df['Latitude'],north_df['Cloudiness'])\n",
    "regress_values = north_df['Latitude'] * slope + intercept\n",
    "plt.plot(north_df['Latitude'], regress_values, \"r-\")\n",
    "line_eq = f\"y = {round(slope,2)}x + {round(intercept,2)}\"\n",
    "plt.annotate(line_eq, (-1,27))\n",
    "plt.savefig('output_data/fig9.png')\n",
    "plt.show()\n",
    "\n",
    "print(f\"The r-value is: {rvalue}\")\n",
    "print(\"As city latitude gets further from 0, cloudiness decreases.\")"
   ]
  },
  {
   "cell_type": "code",
   "execution_count": null,
   "metadata": {},
   "outputs": [],
   "source": [
    "#Southern Hemisphere Latitude vs Cloudiness\n",
    "plt.scatter(south_df['Latitude'],south_df['Cloudiness'])\n",
    "plt.title(\"Southern Hemisphere - City Latitude vs. Cloudiness\")\n",
    "plt.ylabel(\"Cloudiness\")\n",
    "plt.xlabel(\"Latitude\")\n",
    "\n",
    "(slope, intercept, rvalue, pvalue, stderr) = linregress(south_df['Latitude'],south_df['Cloudiness'])\n",
    "regress_values = south_df['Latitude'] * slope + intercept\n",
    "plt.plot(south_df['Latitude'], regress_values, \"r-\")\n",
    "line_eq = f\"y = {round(slope,2)}x + {round(intercept,2)}\"\n",
    "plt.annotate(line_eq, (-55,20))\n",
    "plt.savefig('output_data/fig10.png')\n",
    "plt.show()\n",
    "\n",
    "print(f\"The r-value is: {rvalue}\")\n",
    "print(\"As city latitude gets closer to 0, cloudiness increases.\")"
   ]
  },
  {
   "cell_type": "code",
   "execution_count": null,
   "metadata": {},
   "outputs": [],
   "source": [
    "#Northern Hemisphere Latitude vs Cloudiness\n",
    "plt.scatter(north_df['Latitude'],north_df['Wind Speed'])\n",
    "plt.title(\"Northern Hemisphere - City Latitude vs. Wind Speed\")\n",
    "plt.ylabel(\"Wind Speed\")\n",
    "plt.xlabel(\"Latitude\")\n",
    "\n",
    "(slope, intercept, rvalue, pvalue, stderr) = linregress(north_df['Latitude'],north_df['Wind Speed'])\n",
    "regress_values = north_df['Latitude'] * slope + intercept\n",
    "plt.plot(north_df['Latitude'], regress_values, \"r-\")\n",
    "line_eq = f\"y = {round(slope,2)}x + {round(intercept,2)}\"\n",
    "plt.annotate(line_eq, (-1,27))\n",
    "plt.savefig('output_data/fig11.png')\n",
    "plt.show()\n",
    "\n",
    "print(f\"The r-value is: {rvalue}\")\n",
    "print(\"As city latitude gets further from 0, wind speed decreases.\")"
   ]
  },
  {
   "cell_type": "code",
   "execution_count": null,
   "metadata": {},
   "outputs": [],
   "source": [
    "#Southern Hemisphere Latitude vs Cloudiness\n",
    "plt.scatter(south_df['Latitude'],south_df['Wind Speed'])\n",
    "plt.title(\"Southern Hemisphere - City Latitude vs. Wind Speed\")\n",
    "plt.ylabel(\"Wind Speed\")\n",
    "plt.xlabel(\"Latitude\")\n",
    "\n",
    "(slope, intercept, rvalue, pvalue, stderr) = linregress(south_df['Latitude'],south_df['Wind Speed'])\n",
    "regress_values = south_df['Latitude'] * slope + intercept\n",
    "plt.plot(south_df['Latitude'], regress_values, \"r-\")\n",
    "line_eq = f\"y = {round(slope,2)}x + {round(intercept,2)}\"\n",
    "plt.annotate(line_eq, (-25,27))\n",
    "plt.savefig('output_data/fig12.png')\n",
    "plt.show()\n",
    "\n",
    "print(f\"The r-value is: {rvalue}\")\n",
    "print(\"As city latitude gets closer to 0, wind speed decreases.\")"
   ]
  },
  {
   "cell_type": "code",
   "execution_count": null,
   "metadata": {},
   "outputs": [],
   "source": []
  },
  {
   "cell_type": "code",
   "execution_count": null,
   "metadata": {},
   "outputs": [],
   "source": []
  },
  {
   "cell_type": "code",
   "execution_count": null,
   "metadata": {},
   "outputs": [],
   "source": []
  }
 ],
 "metadata": {
  "anaconda-cloud": {},
  "kernel_info": {
   "name": "python3"
  },
  "kernelspec": {
   "display_name": "Python 3 (ipykernel)",
   "language": "python",
   "name": "python3"
  },
  "language_info": {
   "codemirror_mode": {
    "name": "ipython",
    "version": 3
   },
   "file_extension": ".py",
   "mimetype": "text/x-python",
   "name": "python",
   "nbconvert_exporter": "python",
   "pygments_lexer": "ipython3",
   "version": "3.9.12"
  },
  "latex_envs": {
   "LaTeX_envs_menu_present": true,
   "autoclose": false,
   "autocomplete": true,
   "bibliofile": "biblio.bib",
   "cite_by": "apalike",
   "current_citInitial": 1,
   "eqLabelWithNumbers": true,
   "eqNumInitial": 1,
   "hotkeys": {
    "equation": "Ctrl-E",
    "itemize": "Ctrl-I"
   },
   "labels_anchors": false,
   "latex_user_defs": false,
   "report_style_numbering": false,
   "user_envs_cfg": false
  },
  "nteract": {
   "version": "0.12.3"
  }
 },
 "nbformat": 4,
 "nbformat_minor": 4
}
